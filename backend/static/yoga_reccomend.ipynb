{
 "cells": [
  {
   "cell_type": "code",
   "execution_count": 32,
   "id": "4ad8bbe8-d54f-465a-bef6-ccd011f81d27",
   "metadata": {},
   "outputs": [],
   "source": [
    "import pandas as pd\n",
    "import gensim\n",
    "import spacy\n",
    "nlp = spacy.load(\"en_core_web_lg\")"
   ]
  },
  {
   "cell_type": "code",
   "execution_count": 33,
   "id": "626db165-c4b5-4ac7-a4b4-82328a909c1b",
   "metadata": {},
   "outputs": [],
   "source": [
    "data = pd.read_csv('yoga.csv')"
   ]
  },
  {
   "cell_type": "code",
   "execution_count": 34,
   "id": "2e6c302c-b0ff-43e2-a0ac-69628857496b",
   "metadata": {},
   "outputs": [
    {
     "data": {
      "text/html": [
       "<div>\n",
       "<style scoped>\n",
       "    .dataframe tbody tr th:only-of-type {\n",
       "        vertical-align: middle;\n",
       "    }\n",
       "\n",
       "    .dataframe tbody tr th {\n",
       "        vertical-align: top;\n",
       "    }\n",
       "\n",
       "    .dataframe thead th {\n",
       "        text-align: right;\n",
       "    }\n",
       "</style>\n",
       "<table border=\"1\" class=\"dataframe\">\n",
       "  <thead>\n",
       "    <tr style=\"text-align: right;\">\n",
       "      <th></th>\n",
       "      <th>Asana</th>\n",
       "      <th>Benefits</th>\n",
       "    </tr>\n",
       "  </thead>\n",
       "  <tbody>\n",
       "    <tr>\n",
       "      <th>0</th>\n",
       "      <td>PADOTTHANASANA</td>\n",
       "      <td>This asana strengthens\\nthe abdominal muscles ...</td>\n",
       "    </tr>\n",
       "    <tr>\n",
       "      <th>1</th>\n",
       "      <td>PARVATASANA</td>\n",
       "      <td>This pose strengthens the nerves and muscles i...</td>\n",
       "    </tr>\n",
       "    <tr>\n",
       "      <th>2</th>\n",
       "      <td>ARDHA TITALI ASANA</td>\n",
       "      <td>This is an excellent \\npreparatory practice fo...</td>\n",
       "    </tr>\n",
       "    <tr>\n",
       "      <th>3</th>\n",
       "      <td>GATYATMAK MERU \\nVAKRASANA</td>\n",
       "      <td>This asana removes stiffness \\nof the back and...</td>\n",
       "    </tr>\n",
       "    <tr>\n",
       "      <th>4</th>\n",
       "      <td>SIDEWAYS VIEWING</td>\n",
       "      <td>Sideways viewing relaxes the \\ntension of the ...</td>\n",
       "    </tr>\n",
       "  </tbody>\n",
       "</table>\n",
       "</div>"
      ],
      "text/plain": [
       "                        Asana  \\\n",
       "0              PADOTTHANASANA   \n",
       "1                 PARVATASANA   \n",
       "2          ARDHA TITALI ASANA   \n",
       "3  GATYATMAK MERU \\nVAKRASANA   \n",
       "4            SIDEWAYS VIEWING   \n",
       "\n",
       "                                            Benefits  \n",
       "0  This asana strengthens\\nthe abdominal muscles ...  \n",
       "1  This pose strengthens the nerves and muscles i...  \n",
       "2  This is an excellent \\npreparatory practice fo...  \n",
       "3  This asana removes stiffness \\nof the back and...  \n",
       "4  Sideways viewing relaxes the \\ntension of the ...  "
      ]
     },
     "execution_count": 34,
     "metadata": {},
     "output_type": "execute_result"
    }
   ],
   "source": [
    "data.head()"
   ]
  },
  {
   "cell_type": "code",
   "execution_count": 35,
   "id": "e3efbe00-2b87-492a-9e12-2d651e8b74ba",
   "metadata": {},
   "outputs": [
    {
     "data": {
      "text/plain": [
       "(326, 2)"
      ]
     },
     "execution_count": 35,
     "metadata": {},
     "output_type": "execute_result"
    }
   ],
   "source": [
    "data.shape"
   ]
  },
  {
   "cell_type": "code",
   "execution_count": 36,
   "id": "5d8b0d36-f095-4ac7-9d30-56bfef328432",
   "metadata": {},
   "outputs": [],
   "source": [
    "# from gensim.parsing.preprocessing import remove_stopwords\n",
    "# from gensim.parsing.preprocessing import strip_non_alphanum\n",
    "# from gensim.parsing.preprocessing import strip_numeric\n",
    "# from gensim.parsing.preprocessing import strip_multiple_whitespaces\n"
   ]
  },
  {
   "cell_type": "code",
   "execution_count": 37,
   "id": "0f2bc5ae-8b19-4da3-93f4-abe6cf3e361d",
   "metadata": {},
   "outputs": [],
   "source": [
    "def preprocess(text):\n",
    "    doc = nlp(text.lower())\n",
    "    tokens = [token.lemma_ for token in doc if token.is_alpha and not token.is_stop]\n",
    "    return tokens"
   ]
  },
  {
   "cell_type": "code",
   "execution_count": 38,
   "id": "2f489b04-56b8-4171-964a-4cf6d501caca",
   "metadata": {},
   "outputs": [],
   "source": [
    "sentences = [preprocess(benefit) for benefit in data['Benefits']]\n",
    "word_embedding_model = gensim.models.Word2Vec(sentences, vector_size=100, window=5, min_count=1, sg=1)"
   ]
  },
  {
   "cell_type": "code",
   "execution_count": 39,
   "id": "e7262485-bc05-4ae8-bebb-82a8c83e013b",
   "metadata": {},
   "outputs": [],
   "source": [
    "def recommend_yoga(user_problem, word_embedding_model):\n",
    "    user_tokens = preprocess(user_problem)\n",
    "    similar_yoga = []\n",
    "    for yoga_name, benefit in zip(data['Asana'],  data['Benefits']):\n",
    "        benefit_tokens = preprocess(benefit)\n",
    "        similarity = word_embedding_model.wv.n_similarity(user_tokens, benefit_tokens)\n",
    "        similar_yoga.append((yoga_name,similarity, benefit))\n",
    "    similar_yoga.sort(key=lambda x: x[1], reverse=True)\n",
    "    return similar_yoga"
   ]
  },
  {
   "cell_type": "code",
   "execution_count": 40,
   "id": "6cd737ce-a3a2-4559-9a37-34565b264f7f",
   "metadata": {},
   "outputs": [
    {
     "name": "stdout",
     "output_type": "stream",
     "text": [
      "[('SARAL DHANURASANA', 0.9987373, 'The same benefits as for dhanurasana, but at decreased levels. This\\nposture is useful for lower back pain due to slipped disc or cervical\\nspondylitis when it can be performed without discomfort. It tones the heart\\nand lungs, and is beneficial for respiratory disorders. It helps to improve the\\nposture.'), ('NAUKA SANCHALANASANA', 0.9986896, 'This asana has a positive effect on the pelvis and abdomen and\\nreleases energy blockages in these areas. It is especially useful for\\ngynaecological disorders and postnatal recovery. It also removes\\nconstipation.'), ('Upavistha Titli Asana', 0.99868256, '1. Titli Asana is the Best exercise for relaxing and stretching the aching thighs.\\n2. Butterfly Pose helps to open up the hips and thighs and improves flexibility.\\n3. Titli Asana is a nice stretch for relieving stress and tiredness.\\n4. It stimulates the reproductive and digestive organs.\\n5. Helpful for girls throughout menstruation because it helps to alleviate a number of the discomfort and pain related to menstruating.\\n6. Very useful for girls after menopause.\\n7. Butterfly Pose is Good for pregnant ladies.\\n8. Useful to the kidneys, bladder, endocrine gland, and ovaries.\\n9. Regular practice of this posture will facilitate in easing the pain related to natural childbirth.'), ('matsya Kridasana', 0.9986635, '1) This is an excellent relaxation pose. It can be used for sleeping as well.\\n2) It stretches the abdominal region and relieves constipation.\\n3) Matsya kridasana gives a gentle pull at the waist and helps to reduce waistline fat.\\n4) It relaxes the lower back and helps in relieving sciatic pain.'), ('MERU WAKRASANA', 0.99864644, 'Meru wakrasana stretches the spine, loosening the vertebrae and\\ntoning the nerves. It alleviates backache, neck pain, lumbago and mild forms\\nof sciatica. It is a good asana for beginners, preparing the back for the more\\ndifficult spinal twists.'), ('vastra dhauti', 0.99861836, '1) Vastra dhauti removes impurities from the intestinal tract, thereby detoxifying the stomach and esophagus regions.\\n2) It helps to remove gas, acidity, indigestion and enlargement of spleen.\\n3) It helps to relieve asthma, bronchitis, cough and other ‘Kapha’ or phlegm related problems.')]\n"
     ]
    }
   ],
   "source": [
    "user_problem = \"back pain\"\n",
    "recommended_yoga = recommend_yoga(user_problem, word_embedding_model)\n",
    "print(recommended_yoga[0:6])"
   ]
  },
  {
   "cell_type": "code",
   "execution_count": 41,
   "id": "5d548e90-307b-4b06-b815-cba2e5540e04",
   "metadata": {},
   "outputs": [],
   "source": [
    "# df = pd.DataFrame(recommended_yoga, columns=['asana', 'sims_score'])\n",
    "# print(df)"
   ]
  },
  {
   "cell_type": "code",
   "execution_count": 42,
   "id": "33c736de-b855-46e3-b0a3-c3fbdd596f1f",
   "metadata": {},
   "outputs": [],
   "source": [
    "# df.head(10)"
   ]
  },
  {
   "cell_type": "code",
   "execution_count": 43,
   "id": "309612a9-0f21-4dc3-9ea6-97451dfca003",
   "metadata": {},
   "outputs": [],
   "source": [
    "import joblib\n",
    "\n",
    "from joblib import dump"
   ]
  },
  {
   "cell_type": "code",
   "execution_count": 44,
   "id": "e9d6d21f-23a3-4581-b8b9-041999b26314",
   "metadata": {},
   "outputs": [
    {
     "data": {
      "text/plain": [
       "['word_embedding_model']"
      ]
     },
     "execution_count": 44,
     "metadata": {},
     "output_type": "execute_result"
    }
   ],
   "source": [
    "joblib.dump(word_embedding_model, 'word_embedding_model')"
   ]
  },
  {
   "cell_type": "code",
   "execution_count": null,
   "id": "d88b3118-8788-46ec-bb67-82e79d486292",
   "metadata": {},
   "outputs": [],
   "source": []
  }
 ],
 "metadata": {
  "kernelspec": {
   "display_name": "Python 3 (ipykernel)",
   "language": "python",
   "name": "python3"
  },
  "language_info": {
   "codemirror_mode": {
    "name": "ipython",
    "version": 3
   },
   "file_extension": ".py",
   "mimetype": "text/x-python",
   "name": "python",
   "nbconvert_exporter": "python",
   "pygments_lexer": "ipython3",
   "version": "3.11.1"
  }
 },
 "nbformat": 4,
 "nbformat_minor": 5
}
